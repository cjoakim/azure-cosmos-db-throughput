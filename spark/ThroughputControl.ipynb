{
  "cells": [
    {
      "cell_type": "code",
      "source": [
        "import pkg_resources\r\n",
        "\r\n",
        "pkg_list = list()\r\n",
        "\r\n",
        "for d in sorted(pkg_resources.working_set):\r\n",
        "    pkg_list.append(str(d))\r\n",
        "for p in sorted(pkg_list):\r\n",
        "    print(p)"
      ],
      "outputs": [],
      "execution_count": null,
      "metadata": {}
    }
  ],
  "metadata": {
    "language_info": {
      "name": "python"
    },
    "kernelspec": {
      "name": "synapse_pyspark",
      "language": "Python",
      "display_name": "Synapse PySpark"
    },
    "kernel_info": {
      "name": "synapse_pyspark"
    },
    "save_output": true,
    "synapse_widget": {
      "version": "0.1",
      "state": {}
    }
  },
  "nbformat": 4,
  "nbformat_minor": 2
}